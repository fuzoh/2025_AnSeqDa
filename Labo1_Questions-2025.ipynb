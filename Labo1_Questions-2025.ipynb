{
 "cells": [
  {
   "cell_type": "markdown",
   "metadata": {},
   "source": [
    "# LAB 1: Introduction to Time series Analysis with Python"
   ]
  },
  {
   "cell_type": "markdown",
   "metadata": {},
   "source": [
    "# Introduction "
   ]
  },
  {
   "cell_type": "markdown",
   "metadata": {},
   "source": [
    "In this labo, we will learn about the powerful time series tools with Python. In the broadest definition, a time series is any dataset where the values are measured at different points in time. During the labos, a particular attention will be paid to Pandas. Pandas library contains extensive capabilities and features for working with time series data for all domains. It has consolidated a large number of features from other Python libraries as well as created a tremendous amount of new functionality for manipulating time series data. We will discuss mainly on the visualization aspect, the data structure and the data analysis of time series. The plan is the following:\n",
    "\n",
    "1. Loading time series dataset correctly in Pandas.\n",
    "2. Time series data structure in Pandas. \n",
    "3. Time series visualization in Pandas.\n",
    "4. Time series analysis,\n"
   ]
  },
  {
   "cell_type": "markdown",
   "metadata": {},
   "source": [
    "# Loading Time series dataset"
   ]
  },
  {
   "cell_type": "markdown",
   "metadata": {},
   "source": [
    "We’ll be working with the dataset \"stock_data.csv\" which is a daily time series dataset containing the stock prices of Novartis and Nestle from August 17th, 2020 to August 17th, 2021. Before loading the dataset, let's install pandas package  "
   ]
  },
  {
   "cell_type": "code",
   "execution_count": 6,
   "metadata": {},
   "outputs": [],
   "source": [
    "import pandas as pd"
   ]
  },
  {
   "cell_type": "markdown",
   "metadata": {},
   "source": [
    "# Your jobs"
   ]
  },
  {
   "cell_type": "markdown",
   "metadata": {},
   "source": [
    "1. Loading time series \"stock_data.csv\" in Pandas. Return the shape of the times series, return the column labels\n",
    "2. Check the data type for each column. Convert the \"Date\" column to timestamps. Set the \"Date\" column as index.\n",
    "3. Extract the information about the period of \"2020-08-21. Extract the time series for the period from \"2020-08-17\" to \"2020-08-21\".\n",
    "# Import matplotlib for visualization"
   ]
  },
  {
   "cell_type": "markdown",
   "metadata": {},
   "source": [
    "for the visualization, let’s import matplotlib"
   ]
  },
  {
   "cell_type": "code",
   "execution_count": 7,
   "metadata": {},
   "outputs": [],
   "source": [
    "import matplotlib.pyplot as plt"
   ]
  },
  {
   "cell_type": "markdown",
   "metadata": {},
   "source": [
    "4. In the same figure, visualize the stock prices for Nestle and Norvatis. Give a title to the plot; give the labels of the axis and a legend to the plot.\n",
    "5. Visualize the stock prices for nestle during the period from \"2020-08-17\" to \"2021-05-15\".\n",
    "6. Give the basic descriptive statistics (Mean, median, standard deviation, min, max) for the Nestle prices.\n",
    "7. Plot the histograms for the Norvatis prices and for Nestle prices.\n",
    "8. Draw the scatter plot between the Nestle and Novartis prices."
   ]
  },
  {
   "cell_type": "code",
   "execution_count": null,
   "metadata": {},
   "outputs": [],
   "source": []
  }
 ],
 "metadata": {
  "kernelspec": {
   "display_name": "Python 3",
   "language": "python",
   "name": "python3"
  },
  "language_info": {
   "codemirror_mode": {
    "name": "ipython",
    "version": 3
   },
   "file_extension": ".py",
   "mimetype": "text/x-python",
   "name": "python",
   "nbconvert_exporter": "python",
   "pygments_lexer": "ipython3",
   "version": "3.8.3"
  }
 },
 "nbformat": 4,
 "nbformat_minor": 4
}
